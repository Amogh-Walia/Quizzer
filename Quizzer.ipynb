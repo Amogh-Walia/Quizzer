{
  "cells": [
    {
      "cell_type": "markdown",
      "metadata": {
        "id": "view-in-github",
        "colab_type": "text"
      },
      "source": [
        "<a href=\"https://colab.research.google.com/github/Amogh-Walia/Quizzer/blob/main/Quizzer.ipynb\" target=\"_parent\"><img src=\"https://colab.research.google.com/assets/colab-badge.svg\" alt=\"Open In Colab\"/></a>"
      ]
    },
    {
      "cell_type": "code",
      "execution_count": null,
      "metadata": {
        "id": "aoEP3ut-YQ6s",
        "colab": {
          "base_uri": "https://localhost:8080/"
        },
        "outputId": "43544b49-a65c-413f-e06f-05f967e67830"
      },
      "outputs": [
        {
          "output_type": "stream",
          "name": "stdout",
          "text": [
            "[nltk_data] Downloading package punkt to /root/nltk_data...\n",
            "[nltk_data]   Package punkt is already up-to-date!\n",
            "[nltk_data] Downloading package stopwords to /root/nltk_data...\n",
            "[nltk_data]   Package stopwords is already up-to-date!\n"
          ]
        },
        {
          "output_type": "execute_result",
          "data": {
            "text/plain": [
              "True"
            ]
          },
          "metadata": {},
          "execution_count": 89
        }
      ],
      "source": [
        "#Loading Libraries\n",
        "import nltk\n",
        "from nltk.corpus import stopwords\n",
        "from nltk.tokenize import word_tokenize, sent_tokenize\n",
        "nltk.download('punkt')\n",
        "nltk.download('stopwords')"
      ]
    },
    {
      "cell_type": "code",
      "execution_count": null,
      "metadata": {
        "id": "mvVy1MAfYQ6_"
      },
      "outputs": [],
      "source": [
        "def PreProcess(text):\n",
        "  sent_tokens = nltk.sent_tokenize(text.lower())\n",
        "  word_tokens = nltk.word_tokenize(text)\n",
        "  word_tokens_lower=[word.lower() for word in word_tokens]\n",
        "  stopWords = list(set(stopwords.words(\"english\")))\n",
        "  word_tokens_refined=[x for x in word_tokens_lower if x not in stopWords]\n",
        "  return word_tokens_refined"
      ]
    },
    {
      "cell_type": "code",
      "execution_count": null,
      "metadata": {
        "id": "0n7KvB2DYQ7F"
      },
      "outputs": [],
      "source": [
        "def freq(sentence,query):\n",
        "  freqTable = dict() \n",
        "  for word in sentence : \n",
        "    if word in query:\n",
        "      if word in freqTable: \n",
        "          freqTable[word] += 1\n",
        "      elif word not in freqTable: \n",
        "          freqTable[word] = 1\n",
        "  return freqTable\n"
      ]
    },
    {
      "cell_type": "code",
      "execution_count": null,
      "metadata": {
        "id": "prjnYb8JYQ7H"
      },
      "outputs": [],
      "source": [
        "def Score(text,freqTable):\n",
        "  sentenceValue = dict()   \n",
        "  for sentence in text: \n",
        "      for word in nltk.word_tokenize(sentence): \n",
        "          if word in freqTable.keys():\n",
        "              if sentence in sentenceValue: \n",
        "                  sentenceValue[sentence] += freqTable[word] \n",
        "              else: \n",
        "                  sentenceValue[sentence] = freqTable[word]\n",
        "  return sentenceValue"
      ]
    },
    {
      "cell_type": "code",
      "execution_count": null,
      "metadata": {
        "id": "Kk8MNiVVYQ7K"
      },
      "outputs": [],
      "source": [
        "def max_from_dict(values):\n",
        "  key = sorted(values.items(),reverse=True)\n",
        "  return key"
      ]
    },
    {
      "cell_type": "code",
      "execution_count": null,
      "metadata": {
        "scrolled": true,
        "id": "J3NiFXe9YQ7M"
      },
      "outputs": [],
      "source": [
        "\n",
        "def Summarise(text,sentenceValue):\n",
        "  sumValues = 0\n",
        "  for sentence in sentenceValue: \n",
        "      sumValues += sentenceValue[sentence] \n",
        "  average = int(sumValues / len(sentenceValue)) \n",
        "  summary = '' \n",
        "  for sentence in text: \n",
        "      if (sentence in sentenceValue) and (sentenceValue[sentence] > (1.1*average)): \n",
        "          summary += \" \" + sentence \n",
        "  return summary"
      ]
    },
    {
      "cell_type": "code",
      "execution_count": null,
      "metadata": {
        "id": "xanzfrcRYQ7Q",
        "colab": {
          "base_uri": "https://localhost:8080/"
        },
        "outputId": "f13f265a-2779-4855-f854-e495396fc8b2"
      },
      "outputs": [
        {
          "output_type": "stream",
          "name": "stdout",
          "text": [
            "Question:  what are the effects of covid ?\n",
            "Possible answers in order of their relevance (highest to lowest)\n",
            ">> some people continue to experience a range of effects (long covid) for\n",
            "  months after recovery, and damage to organs has been observed.\n",
            ">> multi-year studies are underway to further investigate the long-term effects of the disease.covid‑19 transmits\n",
            "   when people breathe in air contaminated by droplets and small airborne particles containing the virus.\n"
          ]
        }
      ],
      "source": [
        "#DRIVER CODE\n",
        "\n",
        "\n",
        "\n",
        "text='''\n",
        "\n",
        "Coronavirus disease 2019 (COVID-19) is a contagious disease caused by a virus, the severe acute respiratory syndrome coronavirus 2 (SARS-CoV-2).\n",
        " The first known case was identified in Wuhan, China, in December 2019. \n",
        " The disease spread worldwide, leading to the COVID-19 pandemic.Symptoms of COVID‑19 are variable, \n",
        " but often include fever, cough, headache, fatigue, breathing difficulties, loss of smell, and loss of taste. \n",
        " Symptoms may begin one to fourteen days after exposure to the virus. At least a third of people who are infected do not develop noticeable symptoms. \n",
        " Of those people who develop symptoms noticeable enough to be classed as patients, most (81%) develop mild to moderate symptoms (up to mild pneumonia), \n",
        " while 14% develop severe symptoms (dyspnea, hypoxia, or more than 50% lung involvement on imaging), and 5% suffer critical symptoms (respiratory failure, \n",
        " shock, or multiorgan dysfunction). Older people are at a higher risk of developing severe symptoms. Some people continue to experience a range of effects (long COVID) for\n",
        "  months after recovery, and damage to organs has been observed. Multi-year studies are underway to further investigate the long-term effects of the disease.COVID‑19 transmits\n",
        "   when people breathe in air contaminated by droplets and small airborne particles containing the virus. The risk of breathing these in is highest when people are in close\n",
        "    proximity, but they can be inhaled over longer distances, particularly indoors. Transmission can also occur if splashed or sprayed with contaminated fluids in the eyes, \n",
        "    nose or mouth, and, rarely, via contaminated surfaces. People remain contagious for up to 20 days, and can spread the virus even if they do not develop symptoms. \n",
        "    Several COVID-19 testing methods have been developed to diagnose the disease. The standard diagnostic method is by detection of the virus's nucleic acid by real-time\n",
        "     reverse transcription polymerase chain reaction (rRT-PCR), transcription-mediated amplification (TMA),\n",
        "      or by reverse transcription loop-mediated isothermal amplification (RT-LAMP) from a nasopharyngeal swab. \n",
        "      Several COVID-19 vaccines have been approved and distributed in various countries, which have initiated mass vaccination campaigns. \n",
        "      Other preventive measures include physical or social distancing, quarantining, ventilation of indoor spaces, covering coughs and sneezes,\n",
        "       hand washing, and keeping unwashed hands away from the face. The use of face masks or coverings has been recommended in public settings to\n",
        "        minimize the risk of transmission. While work is underway to develop drugs that inhibit the virus, the primary treatment is symptomatic.\n",
        "         Management involves the treatment of symptoms, supportive care, isolation, and experimental measures.\n",
        "'''\n",
        "\n",
        "question = 'what are the effects of covid ?'\n",
        "refined = PreProcess(text)\n",
        "query = PreProcess(question)\n",
        "tokens = nltk.sent_tokenize(text.lower())\n",
        "\n",
        "\n",
        "freqtable = freq(refined,query)\n",
        "\n",
        "SentenceValue = Score(tokens,freqtable)\n",
        "answer = max_from_dict(SentenceValue)\n",
        "print(\"Question: \",question)\n",
        "print(\"Possible answers in order of their relevance (highest to lowest)\")\n",
        "for i in answer:\n",
        "  print('>>',i[0])\n",
        "\n",
        "\n",
        "\n",
        "\n"
      ]
    }
  ],
  "metadata": {
    "kernelspec": {
      "display_name": "Python 3",
      "language": "python",
      "name": "python3"
    },
    "language_info": {
      "codemirror_mode": {
        "name": "ipython",
        "version": 3
      },
      "file_extension": ".py",
      "mimetype": "text/x-python",
      "name": "python",
      "nbconvert_exporter": "python",
      "pygments_lexer": "ipython3",
      "version": "3.7.6"
    },
    "colab": {
      "name": "Quizzer.ipynb",
      "provenance": [],
      "collapsed_sections": [],
      "include_colab_link": true
    }
  },
  "nbformat": 4,
  "nbformat_minor": 0
}